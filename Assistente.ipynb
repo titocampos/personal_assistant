{
 "cells": [
  {
   "cell_type": "code",
   "execution_count": 1,
   "metadata": {},
   "outputs": [],
   "source": [
    "import datetime\n",
    "import webbrowser\n",
    "import time\n",
    "import subprocess\n",
    "import speech_recognition as sr\n",
    "import pyttsx3  #version 2.7"
   ]
  },
  {
   "cell_type": "code",
   "execution_count": 2,
   "metadata": {},
   "outputs": [],
   "source": [
    "def fale(text):\n",
    "    engine.say(text)\n",
    "    engine.runAndWait()"
   ]
  },
  {
   "cell_type": "code",
   "execution_count": 3,
   "metadata": {},
   "outputs": [],
   "source": [
    "def saudacao():\n",
    "    hour=datetime.datetime.now().hour\n",
    "    if hour<12:\n",
    "        fale(\"Olá, bom dia. Em que posso ser útil?\")\n",
    "        print(\"Olá, bom dia. Em que posso ser útil?\")\n",
    "    elif hour<18:\n",
    "        fale(\"Olá, boa tarde. Em que posso ser útil?\")\n",
    "        print(\"Olá, boa tarde. Em que posso ser útil?\")\n",
    "    else:\n",
    "        fale(\"Olá, boa noite. Em que posso ser útil?\")\n",
    "        print(\"Olá, boa noite. Em que posso ser útil?\")"
   ]
  },
  {
   "cell_type": "code",
   "execution_count": 4,
   "metadata": {},
   "outputs": [],
   "source": [
    "def ouca(r, m):\n",
    "    with m as source:\n",
    "        print(\"Ouvindo...\")\n",
    "        while True:\n",
    "            try:\n",
    "                audio=r.listen(source, timeout=5)\n",
    "                try:\n",
    "                    statement=r.recognize_google(audio,language='pt-br')\n",
    "                    print(f\"Usuário disse: {statement}\\n\")\n",
    "                except sr.UnknownValueError:\n",
    "                    print(\"Desculpe-me, pode repetir por favor?\")\n",
    "                    return \"None\"\n",
    "                except sr.RequestError as e:\n",
    "                    fale(\"Não consegui acessar o serviço de reconhecimento do Google.\")\n",
    "                    print(e)\n",
    "                    return \"None\"\n",
    "                return statement\n",
    "            except Exception as e:\n",
    "                continue\n",
    "            "
   ]
  },
  {
   "cell_type": "code",
   "execution_count": 5,
   "metadata": {},
   "outputs": [
    {
     "name": "stdout",
     "output_type": "stream",
     "text": [
      "Carregando assistente pessoal\n",
      "Olá, bom dia. Em que posso ser útil?\n",
      "Ajustando limite do barulho de fundo  para 2569.4457575046636\n",
      "Ouvindo...\n",
      "Usuário disse: tchau\n",
      "\n"
     ]
    }
   ],
   "source": [
    "print('Carregando assistente pessoal')\n",
    "engine=pyttsx3.init('sapi5')\n",
    "voices=engine.getProperty('voices')\n",
    "engine.setProperty('voice', voices[0].id)\n",
    "saudacao()\n",
    "r=sr.Recognizer()\n",
    "m=sr.Microphone()\n",
    "\n",
    "with m as source: \n",
    "    r.adjust_for_ambient_noise(source)\n",
    "    print(\"Ajustando limite do barulho de fundo  para {}\".format(r.energy_threshold))\n",
    "\n",
    "try:\n",
    "    while True:\n",
    "        statement = ouca(r, m).lower()\n",
    "        if statement==0:\n",
    "            continue\n",
    "\n",
    "        if \"tchau\" in statement or \"bye\" in statement or \"pare\" in statement:\n",
    "            fale('Até mais')\n",
    "            break\n",
    "        elif 'abrir youtube' in statement:\n",
    "            webbrowser.open_new_tab(\"https://www.youtube.com\")\n",
    "            fale(\"youtube está aberto\")\n",
    "            time.sleep(5)\n",
    "        elif 'hora' in statement:\n",
    "            strTime=datetime.datetime.now().strftime(\"%H:%M:%S\")\n",
    "            fale(f\"São {strTime}\")\n",
    "        elif 'conte um minuto' in statement:\n",
    "            contador = 1\n",
    "            while True:\n",
    "                fale(str(contador))\n",
    "                contador+=1\n",
    "                if contador == 61:\n",
    "                    break\n",
    "                time.sleep(.6)\n",
    "        elif \"atendimento\" in statement:\n",
    "            fale(\"Ok, abrindo crm_atend\")\n",
    "            subprocess.call([\"c:\\\\temp\\\\crm\\\\CRMAtend.exe\", \"\"])\n",
    "except KeyboardInterrupt:\n",
    "    pass            \n",
    "time.sleep(3)"
   ]
  },
  {
   "cell_type": "code",
   "execution_count": null,
   "metadata": {},
   "outputs": [],
   "source": []
  },
  {
   "cell_type": "code",
   "execution_count": null,
   "metadata": {},
   "outputs": [],
   "source": []
  }
 ],
 "metadata": {
  "kernelspec": {
   "display_name": "Python 3",
   "language": "python",
   "name": "python3"
  },
  "language_info": {
   "codemirror_mode": {
    "name": "ipython",
    "version": 3
   },
   "file_extension": ".py",
   "mimetype": "text/x-python",
   "name": "python",
   "nbconvert_exporter": "python",
   "pygments_lexer": "ipython3",
   "version": "3.7.6"
  }
 },
 "nbformat": 4,
 "nbformat_minor": 4
}
